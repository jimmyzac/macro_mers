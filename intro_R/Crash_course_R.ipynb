{
  "nbformat": 4,
  "nbformat_minor": 0,
  "metadata": {
    "colab": {
      "provenance": []
    },
    "kernelspec": {
      "name": "ir",
      "display_name": "R"
    },
    "language_info": {
      "name": "R"
    }
  },
  "cells": [
    {
      "cell_type": "markdown",
      "source": [
        "# Crash Course in R"
      ],
      "metadata": {
        "id": "cHeS6_cJI38R"
      }
    },
    {
      "cell_type": "markdown",
      "source": [
        "## Introducción\n",
        "R es un lenguaje de programación y entorno de software diseñado para estadística y análisis\n",
        "de datos. Es ampliamente utilizado en la investigación y el análisis de datos en general."
      ],
      "metadata": {
        "id": "NneVc5fUJFLs"
      }
    },
    {
      "cell_type": "markdown",
      "source": [
        "## Objetos Simples\n",
        "R se encuentra dentro del paradigma de la Programación Orientada a Objetos (POO), que en palabras simples, quiere decir que primero se crea un objeto y luego este se manipula con\n",
        "código. Un objeto en R puede ser prácticamente cualquier cosa: un número, una gráfica o\n",
        "incluso una matriz.\n"
      ],
      "metadata": {
        "id": "DBnpJ8i5JN-l"
      }
    },
    {
      "cell_type": "markdown",
      "source": [
        "Para crear un objeto en R debemos darle un nombre seguido del símbolo de asignación y el\n",
        "contenido del objeto\n",
        "\n",
        "**nombre_objeto <- contenido**"
      ],
      "metadata": {
        "id": "g20k8kxVJYb5"
      }
    },
    {
      "cell_type": "markdown",
      "source": [
        "Crear un objteto llamado siete que contenga el 7"
      ],
      "metadata": {
        "id": "tAhpAQIWJoWZ"
      }
    },
    {
      "cell_type": "code",
      "source": [],
      "metadata": {
        "id": "qqyvM-opKKo0"
      },
      "execution_count": 1,
      "outputs": []
    },
    {
      "cell_type": "markdown",
      "source": [
        "crear un objeto llamado mi_inicial con la inicial de tu nombre"
      ],
      "metadata": {
        "id": "Gj6Rf3jqKQxU"
      }
    },
    {
      "cell_type": "code",
      "source": [],
      "metadata": {
        "id": "PZeGB5jGKXPe"
      },
      "execution_count": 3,
      "outputs": []
    },
    {
      "cell_type": "markdown",
      "source": [
        "Como mostramos un objeto, hay dos opciones:\n",
        "\n",
        "\n",
        "*   por el nombre\n",
        "*   *print(objeto)*\n",
        "\n"
      ],
      "metadata": {
        "id": "Q-Sioa5jKfmp"
      }
    },
    {
      "cell_type": "code",
      "source": [],
      "metadata": {
        "id": "xRHjgO1AKzsM"
      },
      "execution_count": 4,
      "outputs": []
    },
    {
      "cell_type": "code",
      "source": [],
      "metadata": {
        "id": "3la8yeyZK2AB"
      },
      "execution_count": 5,
      "outputs": []
    },
    {
      "cell_type": "markdown",
      "source": [
        "En R existen tres tipo de objetos básicos\n",
        "\n",
        "*   númericos (enteros y decimales)\n",
        "*   texto (string/caracter)\n",
        "*   boleanos (lógicos-verdadero/falso)\n",
        "\n"
      ],
      "metadata": {
        "id": "rO-DjWcXLm6n"
      }
    },
    {
      "cell_type": "code",
      "source": [],
      "metadata": {
        "id": "K8Y030WILtc-"
      },
      "execution_count": 6,
      "outputs": []
    },
    {
      "cell_type": "code",
      "source": [],
      "metadata": {
        "id": "MP7Ml8a_LyYI"
      },
      "execution_count": 7,
      "outputs": []
    },
    {
      "cell_type": "markdown",
      "source": [
        "El otro tipo de objeto son los boleanos (lógicos) los que son TRUE o FALSE"
      ],
      "metadata": {
        "id": "a9IIizjfL3qW"
      }
    },
    {
      "cell_type": "code",
      "source": [],
      "metadata": {
        "id": "xlwI93zjMCz4"
      },
      "execution_count": 8,
      "outputs": []
    },
    {
      "cell_type": "code",
      "source": [],
      "metadata": {
        "id": "2O31g9YAMIlh"
      },
      "execution_count": 9,
      "outputs": []
    },
    {
      "cell_type": "code",
      "source": [],
      "metadata": {
        "id": "2I8RL2d0MPi-"
      },
      "execution_count": 10,
      "outputs": []
    },
    {
      "cell_type": "code",
      "source": [],
      "metadata": {
        "id": "4CT-8G5YMSGT"
      },
      "execution_count": 11,
      "outputs": []
    },
    {
      "cell_type": "markdown",
      "source": [
        "Existen más tipos de objetos pero no es nuestro objetivo discutirlo aquí"
      ],
      "metadata": {
        "id": "BLKQ06eSMzWe"
      }
    },
    {
      "cell_type": "markdown",
      "source": [
        "## Vector\n",
        "Un vector en R es una colección de objetos del mismo tipo"
      ],
      "metadata": {
        "id": "B6o8-AAPNAQO"
      }
    },
    {
      "cell_type": "markdown",
      "source": [
        "**nombre_vector <- c(objeto1, objeto2, objeto3, ....)**"
      ],
      "metadata": {
        "id": "4FpCVJGWNTbO"
      }
    },
    {
      "cell_type": "markdown",
      "source": [
        "Vamos a crear un vector con los numeros del uno al cinco"
      ],
      "metadata": {
        "id": "QW6UGhoRN4-_"
      }
    },
    {
      "cell_type": "code",
      "source": [],
      "metadata": {
        "id": "0Nzci_7oOBL1"
      },
      "execution_count": 12,
      "outputs": []
    },
    {
      "cell_type": "code",
      "source": [],
      "metadata": {
        "id": "LB54MozVOJL9"
      },
      "execution_count": 13,
      "outputs": []
    },
    {
      "cell_type": "markdown",
      "source": [
        "Vamos a crear un vector con los nombres de los alumnos de la clase"
      ],
      "metadata": {
        "id": "C6v2lMQbOUQ4"
      }
    },
    {
      "cell_type": "code",
      "source": [],
      "metadata": {
        "id": "JLwfkhCHOfD2"
      },
      "execution_count": 14,
      "outputs": []
    },
    {
      "cell_type": "markdown",
      "source": [
        "si queremos elegir un elemento del vector lo hacemos de la siguiente manera:\n",
        "\n",
        "**vector[posición]**"
      ],
      "metadata": {
        "id": "Unh3n0z8Ovis"
      }
    },
    {
      "cell_type": "markdown",
      "source": [
        "Si queremos elegir a Jimena"
      ],
      "metadata": {
        "id": "U1fhlu7WO8on"
      }
    },
    {
      "cell_type": "code",
      "source": [],
      "metadata": {
        "id": "auVqpR4mO_w8"
      },
      "execution_count": 15,
      "outputs": []
    },
    {
      "cell_type": "markdown",
      "source": [
        "## Data frame\n",
        "Un Dataframe es una estructura de datos organizados en filas y columnas, algo similar a lo\n",
        "que ocurre en excel."
      ],
      "metadata": {
        "id": "IgCgsbfWPLYW"
      }
    },
    {
      "cell_type": "markdown",
      "source": [
        "Los dataframes agrupan vectores en una tabla. Cada vector se convierte en\n",
        "una columna de la tabla.\n"
      ],
      "metadata": {
        "id": "kZv6kosiQBKs"
      }
    },
    {
      "cell_type": "markdown",
      "source": [
        "Vamos a crear data frame con nombre, materia y calificación"
      ],
      "metadata": {
        "id": "SheE3goiQWht"
      }
    },
    {
      "cell_type": "code",
      "source": [
        "\n",
        "\n",
        "\n"
      ],
      "metadata": {
        "id": "Iqx1w0qlQ6J0"
      },
      "execution_count": 16,
      "outputs": []
    },
    {
      "cell_type": "code",
      "source": [
        "## ver data frame\n"
      ],
      "metadata": {
        "id": "p4DwESaJRk9Q"
      },
      "execution_count": 17,
      "outputs": []
    },
    {
      "cell_type": "markdown",
      "source": [
        "Elegir columna"
      ],
      "metadata": {
        "id": "WpyytHLiRvvv"
      }
    },
    {
      "cell_type": "code",
      "source": [
        "## con $\n"
      ],
      "metadata": {
        "id": "Kpv9-PK9RyBj"
      },
      "execution_count": 18,
      "outputs": []
    },
    {
      "cell_type": "code",
      "source": [
        "## selección tipo vector\n"
      ],
      "metadata": {
        "id": "9hPgW3FHR3QF"
      },
      "execution_count": 19,
      "outputs": []
    },
    {
      "cell_type": "markdown",
      "source": [
        "Elegir a los que tienen una calificación mayor o igual a 80"
      ],
      "metadata": {
        "id": "oXIt6KvrS0-O"
      }
    },
    {
      "cell_type": "code",
      "source": [],
      "metadata": {
        "id": "EpnJpyLASkxU"
      },
      "execution_count": 20,
      "outputs": []
    },
    {
      "cell_type": "markdown",
      "source": [
        "## Librerías/paquetes\n",
        "Son conjunto de códigos de R, que le indican a R como hacer determinadas cosas. Por tanto un libreria sirve para ampliar las funciones de R"
      ],
      "metadata": {
        "id": "_Y45bJxTTUyo"
      }
    },
    {
      "cell_type": "markdown",
      "source": [
        "En nuestro caso utilizaremos **tidyverse** que es un conjunto de librerias que sirven para análisis de datos"
      ],
      "metadata": {
        "id": "9qR6XX8sTovD"
      }
    },
    {
      "cell_type": "code",
      "source": [],
      "metadata": {
        "id": "LqaYs6ONUBZg"
      },
      "execution_count": 21,
      "outputs": []
    },
    {
      "cell_type": "markdown",
      "source": [
        "La librería **dplyr** que forma parte de *tidyverse* tiene 6 funciones importantes:\n",
        "\n",
        "* *filter()* para filtrar o elegir las observaciones por sus valores o filas\n",
        "* *select()* elegir las columnas de un data frame.\n",
        "* *arrange()* para ordenar un dataframe de acuerdo al valor de una columna o columnas\n",
        "* *mutate()* Crear nuevas variables con transformaciones de variables existentes\n",
        "* *summarise()*  del inglés resumir, sirve para resumir un conjunto de valores en uno solo, como la media.\n",
        "* *group_by()* \"agrupar por\" cambia el alcance de una función para que actúe ya no sobre todo el conjunto de datos sino de grupo en grupo"
      ],
      "metadata": {
        "id": "VXYiktP6U9z0"
      }
    },
    {
      "cell_type": "markdown",
      "source": [
        "Vamos a elegir la columna nombre"
      ],
      "metadata": {
        "id": "kmhYXtysVdrY"
      }
    },
    {
      "cell_type": "code",
      "source": [],
      "metadata": {
        "id": "MgS41ci5Vi6K"
      },
      "execution_count": 22,
      "outputs": []
    },
    {
      "cell_type": "markdown",
      "source": [
        "vamos a elegir a los alumnos de Español"
      ],
      "metadata": {
        "id": "uRSZHhLoVvZG"
      }
    },
    {
      "cell_type": "code",
      "source": [],
      "metadata": {
        "id": "qmj68vQPWBIj"
      },
      "execution_count": 23,
      "outputs": []
    },
    {
      "cell_type": "markdown",
      "source": [
        "se pueden combinar las funciones de dplyr"
      ],
      "metadata": {
        "id": "R0iaAqzJWP0q"
      }
    },
    {
      "cell_type": "code",
      "source": [
        "\n",
        "\n",
        "\n"
      ],
      "metadata": {
        "id": "t__C4JBHWT77"
      },
      "execution_count": 24,
      "outputs": []
    }
  ]
}
